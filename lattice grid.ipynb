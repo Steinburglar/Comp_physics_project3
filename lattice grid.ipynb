{
 "cells": [
  {
   "cell_type": "code",
   "execution_count": null,
   "metadata": {},
   "outputs": [],
   "source": []
  },
  {
   "cell_type": "code",
   "execution_count": 3,
   "metadata": {},
   "outputs": [],
   "source": [
    "import pandas as pd\n",
    "#initialize lattice grid --> 10x10 square grid filled w zeros\n",
    "data = [[0 for _ in range(10)] for _ in range(10)]\n",
    "df = pd.DataFrame(data)\n",
    "\n",
    "\n",
    "# triangle lattice fill w/ 1\n",
    "for i in range(10):\n",
    "    for j in range(10-i):\n",
    "        df.at[i, j] = 1\n",
    "\n"
   ]
  },
  {
   "cell_type": "code",
   "execution_count": 4,
   "metadata": {},
   "outputs": [
    {
     "name": "stdout",
     "output_type": "stream",
     "text": [
      "55\n",
      "1 1 1 1 1 1 1 1 1 1\n",
      "1 1 1 1 1 1 1 1 1 0\n",
      "1 1 1 1 1 1 1 1 0 0\n",
      "1 1 1 1 1 1 1 0 0 0\n",
      "1 1 1 1 1 1 0 0 0 0\n",
      "1 1 1 1 1 0 0 0 0 0\n",
      "1 1 1 1 0 0 0 0 0 0\n",
      "1 1 1 0 0 0 0 0 0 0\n",
      "1 1 0 0 0 0 0 0 0 0\n",
      "1 0 0 0 0 0 0 0 0 0\n"
     ]
    }
   ],
   "source": [
    "#sum of spins\n",
    "T_spins = df.values.sum()\n",
    "print(T_spins)\n",
    "print(df.to_string(header=False, index=False))"
   ]
  },
  {
   "cell_type": "code",
   "execution_count": null,
   "metadata": {},
   "outputs": [],
   "source": []
  }
 ],
 "metadata": {
  "kernelspec": {
   "display_name": "base",
   "language": "python",
   "name": "python3"
  },
  "language_info": {
   "codemirror_mode": {
    "name": "ipython",
    "version": 3
   },
   "file_extension": ".py",
   "mimetype": "text/x-python",
   "name": "python",
   "nbconvert_exporter": "python",
   "pygments_lexer": "ipython3",
   "version": "3.11.5"
  }
 },
 "nbformat": 4,
 "nbformat_minor": 2
}
