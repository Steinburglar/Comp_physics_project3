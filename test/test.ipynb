{
 "cells": [
  {
   "cell_type": "markdown",
   "metadata": {},
   "source": [
    "Project 3 Ising Model\n",
    "Lucas Steinberger, ** add name here **\n",
    "Computational Physics"
   ]
  },
  {
   "cell_type": "markdown",
   "metadata": {},
   "source": [
    "the folloeing is code for an interface class to connect our lattice and algorithms"
   ]
  },
  {
   "cell_type": "code",
   "execution_count": 5,
   "metadata": {},
   "outputs": [],
   "source": [
    "\n",
    "%run metroplois2.py\n",
    "%run graph.py\n",
    "\n"
   ]
  },
  {
   "cell_type": "code",
   "execution_count": 6,
   "metadata": {},
   "outputs": [
    {
     "ename": "AttributeError",
     "evalue": "'graph' object has no attribute 'N'",
     "output_type": "error",
     "traceback": [
      "\u001b[1;31m---------------------------------------------------------------------------\u001b[0m",
      "\u001b[1;31mAttributeError\u001b[0m                            Traceback (most recent call last)",
      "Input \u001b[1;32mIn [6]\u001b[0m, in \u001b[0;36m<cell line: 4>\u001b[1;34m()\u001b[0m\n\u001b[0;32m      2\u001b[0m square_lattice \u001b[38;5;241m=\u001b[39m graph(\u001b[38;5;241m1\u001b[39m)\n\u001b[0;32m      3\u001b[0m Squr_alg \u001b[38;5;241m=\u001b[39m Metroplois(square_lattice, T)\n\u001b[1;32m----> 4\u001b[0m \u001b[43mSqur_alg\u001b[49m\u001b[38;5;241;43m.\u001b[39;49m\u001b[43mrun_metroplois\u001b[49m\u001b[43m(\u001b[49m\u001b[38;5;241;43m200\u001b[39;49m\u001b[43m)\u001b[49m\n",
      "File \u001b[1;32m~\\OneDrive\\Documents\\GitHub\\Comp_physics_project3\\test\\metroplois2.py:49\u001b[0m, in \u001b[0;36mMetroplois.run_metroplois\u001b[1;34m(self, steps)\u001b[0m\n\u001b[0;32m     47\u001b[0m \u001b[38;5;28;01mfor\u001b[39;00m i \u001b[38;5;129;01min\u001b[39;00m \u001b[38;5;28mrange\u001b[39m(\u001b[38;5;241m0\u001b[39m, steps):\n\u001b[0;32m     48\u001b[0m     node \u001b[38;5;241m=\u001b[39m \u001b[38;5;28mself\u001b[39m\u001b[38;5;241m.\u001b[39mrandom_node()\n\u001b[1;32m---> 49\u001b[0m     check \u001b[38;5;241m=\u001b[39m \u001b[38;5;28;43mself\u001b[39;49m\u001b[38;5;241;43m.\u001b[39;49m\u001b[43mevaluate_delta\u001b[49m\u001b[43m(\u001b[49m\u001b[43mnode\u001b[49m\u001b[43m)\u001b[49m\n\u001b[0;32m     50\u001b[0m     \u001b[38;5;28;01mif\u001b[39;00m check \u001b[38;5;241m==\u001b[39m \u001b[38;5;28;01mTrue\u001b[39;00m:\n\u001b[0;32m     51\u001b[0m         new_lattice \u001b[38;5;241m=\u001b[39m \u001b[38;5;28mself\u001b[39m\u001b[38;5;241m.\u001b[39mgraph\u001b[38;5;241m.\u001b[39mflip(node) \u001b[38;5;66;03m#returns new lattice configuration \u001b[39;00m\n",
      "File \u001b[1;32m~\\OneDrive\\Documents\\GitHub\\Comp_physics_project3\\test\\metroplois2.py:35\u001b[0m, in \u001b[0;36mMetroplois.evaluate_delta\u001b[1;34m(self, node)\u001b[0m\n\u001b[0;32m     34\u001b[0m \u001b[38;5;28;01mdef\u001b[39;00m \u001b[38;5;21mevaluate_delta\u001b[39m(\u001b[38;5;28mself\u001b[39m, node):\n\u001b[1;32m---> 35\u001b[0m     delta \u001b[38;5;241m=\u001b[39m \u001b[38;5;28;43mself\u001b[39;49m\u001b[38;5;241;43m.\u001b[39;49m\u001b[43mgraph\u001b[49m\u001b[38;5;241;43m.\u001b[39;49m\u001b[43mget_delta\u001b[49m\u001b[43m(\u001b[49m\u001b[43mnode\u001b[49m\u001b[43m)\u001b[49m\n\u001b[0;32m     36\u001b[0m     k \u001b[38;5;241m=\u001b[39m \u001b[38;5;241m1\u001b[39m\n\u001b[0;32m     37\u001b[0m     \u001b[38;5;28;01mif\u001b[39;00m delta \u001b[38;5;241m<\u001b[39m\u001b[38;5;241m0\u001b[39m \u001b[38;5;129;01mor\u001b[39;00m random(\u001b[38;5;241m0\u001b[39m,\u001b[38;5;241m1\u001b[39m) \u001b[38;5;241m<\u001b[39m\u001b[38;5;241m=\u001b[39m np\u001b[38;5;241m.\u001b[39mexp(\u001b[38;5;241m-\u001b[39mdelta\u001b[38;5;241m/\u001b[39m(k\u001b[38;5;241m*\u001b[39m\u001b[38;5;28mself\u001b[39m\u001b[38;5;241m.\u001b[39mT)):\n",
      "File \u001b[1;32m~\\OneDrive\\Documents\\GitHub\\Comp_physics_project3\\test\\graph.py:108\u001b[0m, in \u001b[0;36mgraph.get_delta\u001b[1;34m(self, node)\u001b[0m\n\u001b[0;32m    106\u001b[0m \u001b[38;5;28;01mdef\u001b[39;00m \u001b[38;5;21mget_delta\u001b[39m(\u001b[38;5;28mself\u001b[39m, node):\n\u001b[0;32m    107\u001b[0m         \u001b[38;5;66;03m#flips a node or sections of nodes and gets the energy delta\u001b[39;00m\n\u001b[1;32m--> 108\u001b[0m         before\u001b[38;5;241m=\u001b[39m \u001b[38;5;28;43mself\u001b[39;49m\u001b[38;5;241;43m.\u001b[39;49m\u001b[43mgetE\u001b[49m\u001b[43m(\u001b[49m\u001b[43mnode\u001b[49m\u001b[43m)\u001b[49m\n\u001b[0;32m    109\u001b[0m         \u001b[38;5;28mself\u001b[39m\u001b[38;5;241m.\u001b[39mflip(node)\n\u001b[0;32m    110\u001b[0m         after \u001b[38;5;241m=\u001b[39m \u001b[38;5;28mself\u001b[39m\u001b[38;5;241m.\u001b[39mgetE(node)\n",
      "File \u001b[1;32m~\\OneDrive\\Documents\\GitHub\\Comp_physics_project3\\test\\graph.py:69\u001b[0m, in \u001b[0;36mgraph.getE\u001b[1;34m(self, nodes)\u001b[0m\n\u001b[0;32m     62\u001b[0m \u001b[38;5;28;01mdef\u001b[39;00m \u001b[38;5;21mgetE\u001b[39m(\u001b[38;5;28mself\u001b[39m, nodes):\n\u001b[0;32m     63\u001b[0m     \u001b[38;5;124;03m\"\"\"\u001b[39;00m\n\u001b[0;32m     64\u001b[0m \u001b[38;5;124;03m    Method to find the energy associated with a node or a group of nodes (in the case of a cluster)\u001b[39;00m\n\u001b[0;32m     65\u001b[0m \u001b[38;5;124;03m    @param: nodes: This is either a single integer or a list of integers, that are the index of the nodes to be flipped\u001b[39;00m\n\u001b[0;32m     66\u001b[0m \u001b[38;5;124;03m    side effects: none\u001b[39;00m\n\u001b[0;32m     67\u001b[0m \u001b[38;5;124;03m    returns: energy associated with node/nodes\u001b[39;00m\n\u001b[0;32m     68\u001b[0m \u001b[38;5;124;03m    \"\"\"\u001b[39;00m\n\u001b[1;32m---> 69\u001b[0m     node \u001b[38;5;241m=\u001b[39m flattened_index(nodes, \u001b[38;5;28;43mself\u001b[39;49m\u001b[38;5;241;43m.\u001b[39;49m\u001b[43mN\u001b[49m) \u001b[38;5;66;03m#needs work\u001b[39;00m\n\u001b[0;32m     70\u001b[0m     \u001b[38;5;28msum\u001b[39m \u001b[38;5;241m=\u001b[39m \u001b[38;5;241m0\u001b[39m \u001b[38;5;66;03m#initialize energy E\u001b[39;00m\n\u001b[0;32m     71\u001b[0m     \u001b[38;5;28;01mif\u001b[39;00m \u001b[38;5;28misinstance\u001b[39m(nodes, \u001b[38;5;28mint\u001b[39m): \u001b[38;5;66;03m#if just one node\u001b[39;00m\n",
      "\u001b[1;31mAttributeError\u001b[0m: 'graph' object has no attribute 'N'"
     ]
    }
   ],
   "source": [
    "\n",
    "T = [0, 4]\n",
    "square_lattice = graph(1)\n",
    "\n",
    "Squr_alg = Metroplois(square_lattice, T)\n",
    "Squr_alg.run_metroplois(200)\n",
    "\n",
    "# T_spins = square_df.values.sum()"
   ]
  },
  {
   "cell_type": "code",
   "execution_count": null,
   "metadata": {},
   "outputs": [],
   "source": []
  }
 ],
 "metadata": {
  "kernelspec": {
   "display_name": "Python 3 (ipykernel)",
   "language": "python",
   "name": "python3"
  },
  "language_info": {
   "codemirror_mode": {
    "name": "ipython",
    "version": 3
   },
   "file_extension": ".py",
   "mimetype": "text/x-python",
   "name": "python",
   "nbconvert_exporter": "python",
   "pygments_lexer": "ipython3",
   "version": "3.9.12"
  }
 },
 "nbformat": 4,
 "nbformat_minor": 2
}
