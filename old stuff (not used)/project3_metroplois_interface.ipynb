{
 "cells": [
  {
   "cell_type": "markdown",
   "metadata": {},
   "source": [
    "Project 3 Ising Model\n",
    "Lucas Steinberger, ** add name here **\n",
    "Computational Physics"
   ]
  },
  {
   "cell_type": "markdown",
   "metadata": {},
   "source": [
    "the folloeing is code for an interface class to connect our lattice and algorithms"
   ]
  },
  {
   "cell_type": "code",
   "execution_count": 5,
   "metadata": {},
   "outputs": [],
   "source": [
    "import numpy as np\n",
    "from random import random\n",
    "from scipy import constants"
   ]
  },
  {
   "cell_type": "code",
   "execution_count": 6,
   "metadata": {},
   "outputs": [],
   "source": [
    "class interface():\n",
    "    def __init__(self, lattice, algorithm):\n",
    "        self.lattice = lattice\n",
    "        self.alg = algorithm\n",
    "\n",
    "    def get_delta(self, node):\n",
    "        #flips a node or sections of nodes and gets the energy delta\n",
    "        before= self.lattice.getE(node)\n",
    "        self.lattice.flip(node)\n",
    "        after = self.lattice.getE(node)\n",
    "        return after-before\n",
    "\n",
    "        "
   ]
  },
  {
   "cell_type": "code",
   "execution_count": 7,
   "metadata": {},
   "outputs": [],
   "source": [
    "class Metroplois():\n",
    "    def __init__(self, interface, T):\n",
    "        self.interface= interface\n",
    "        self.T = T\n",
    "\n",
    "    def random_node(self):\n",
    "        #picks a random node in the lattice\n",
    "        node = 1\n",
    "        return node\n",
    "    \n",
    "    def flip_node(self, node):\n",
    "        self.interface.lattice.flip(node)\n",
    "\n",
    "    def evaluate_delta(self, node):\n",
    "        delta = self.interface.get_delta(node)\n",
    "        k = constants.k\n",
    "        if delta <0 or random(0,1) <= np.exp(-delta/(k*self.T)):\n",
    "            return True\n",
    "        else:\n",
    "            return False\n",
    "        \n",
    "    def run_metropolis(self, ):\n",
    "        for i in range(0, 3000):\n",
    "            node = self.random_node()\n",
    "            check = self.evaluate_delta(node)\n",
    "            if check == False:\n",
    "                self.flip_node(node)\n",
    "\n"
   ]
  }
 ],
 "metadata": {
  "kernelspec": {
   "display_name": "base",
   "language": "python",
   "name": "python3"
  },
  "language_info": {
   "codemirror_mode": {
    "name": "ipython",
    "version": 3
   },
   "file_extension": ".py",
   "mimetype": "text/x-python",
   "name": "python",
   "nbconvert_exporter": "python",
   "pygments_lexer": "ipython3",
   "version": "3.9.12"
  }
 },
 "nbformat": 4,
 "nbformat_minor": 2
}
