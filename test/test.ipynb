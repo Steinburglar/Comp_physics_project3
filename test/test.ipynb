{
 "cells": [
  {
   "cell_type": "markdown",
   "metadata": {},
   "source": [
    "Project 3 Ising Model\n",
    "Lucas Steinberger, ** add name here **\n",
    "Computational Physics"
   ]
  },
  {
   "cell_type": "markdown",
   "metadata": {},
   "source": [
    "the folloeing is code for an interface class to connect our lattice and algorithms"
   ]
  },
  {
   "cell_type": "code",
   "execution_count": 1,
   "metadata": {},
   "outputs": [],
   "source": [
    "import lattice\n",
    "import metroplois2\n",
    "import graph"
   ]
  },
  {
   "cell_type": "code",
   "execution_count": 2,
   "metadata": {},
   "outputs": [
    {
     "ename": "TypeError",
     "evalue": "cannot unpack non-iterable bool object",
     "output_type": "error",
     "traceback": [
      "\u001b[1;31m---------------------------------------------------------------------------\u001b[0m",
      "\u001b[1;31mTypeError\u001b[0m                                 Traceback (most recent call last)",
      "Input \u001b[1;32mIn [2]\u001b[0m, in \u001b[0;36m<cell line: 5>\u001b[1;34m()\u001b[0m\n\u001b[0;32m      2\u001b[0m square_lattice \u001b[38;5;241m=\u001b[39m lattice\u001b[38;5;241m.\u001b[39mLattice(J \u001b[38;5;241m=\u001b[39m \u001b[38;5;241m1\u001b[39m)\n\u001b[0;32m      3\u001b[0m square_graph \u001b[38;5;241m=\u001b[39m graph\u001b[38;5;241m.\u001b[39mgraph(\u001b[38;5;241m1\u001b[39m)\n\u001b[1;32m----> 5\u001b[0m \u001b[43msquare_graph\u001b[49m\u001b[38;5;241;43m.\u001b[39;49m\u001b[43minitialize\u001b[49m\u001b[43m(\u001b[49m\u001b[43msquare_lattice\u001b[49m\u001b[43m)\u001b[49m\n\u001b[0;32m      6\u001b[0m square_graph\u001b[38;5;241m.\u001b[39mdisplay()\n\u001b[0;32m      7\u001b[0m Squr_alg \u001b[38;5;241m=\u001b[39m metroplois2\u001b[38;5;241m.\u001b[39mMetroplois(square_graph, T)\n",
      "File \u001b[1;32mc:\\Users\\Moxie\\OneDrive\\Documents\\GitHub\\Comp_physics_project3\\test\\graph.py:48\u001b[0m, in \u001b[0;36mgraph.initialize\u001b[1;34m(self, lattice, dimension)\u001b[0m\n\u001b[0;32m     46\u001b[0m \u001b[38;5;28mself\u001b[39m\u001b[38;5;241m.\u001b[39mM \u001b[38;5;241m=\u001b[39m M\n\u001b[0;32m     47\u001b[0m \u001b[38;5;28mself\u001b[39m\u001b[38;5;241m.\u001b[39mN \u001b[38;5;241m=\u001b[39m N\n\u001b[1;32m---> 48\u001b[0m \u001b[38;5;28mself\u001b[39m\u001b[38;5;241m.\u001b[39madj \u001b[38;5;241m=\u001b[39m \u001b[43madjacency_list\u001b[49m\u001b[43m(\u001b[49m\u001b[43mlattice\u001b[49m\u001b[43m,\u001b[49m\u001b[43m \u001b[49m\u001b[43mdimension\u001b[49m\u001b[43m)\u001b[49m\n\u001b[0;32m     49\u001b[0m \u001b[38;5;28mself\u001b[39m\u001b[38;5;241m.\u001b[39mvertex \u001b[38;5;241m=\u001b[39m lattice\u001b[38;5;241m.\u001b[39mvalues\u001b[38;5;241m.\u001b[39mflatten()\n",
      "File \u001b[1;32mc:\\Users\\Moxie\\OneDrive\\Documents\\GitHub\\Comp_physics_project3\\test\\graph.py:145\u001b[0m, in \u001b[0;36madjacency_list\u001b[1;34m(lattice, dimension)\u001b[0m\n\u001b[0;32m    140\u001b[0m \u001b[38;5;28;01mdef\u001b[39;00m \u001b[38;5;21madjacency_list\u001b[39m(lattice, dimension):\n\u001b[0;32m    141\u001b[0m             \u001b[38;5;124;03m\"\"\"\u001b[39;00m\n\u001b[0;32m    142\u001b[0m \u001b[38;5;124;03m            function to build an adjacency out of the lattice. used as part of the graph initialize method.\u001b[39;00m\n\u001b[0;32m    143\u001b[0m \u001b[38;5;124;03m            returns an M*N dataframe, where the values are lists of the flattened index of the adjacent nodes\u001b[39;00m\n\u001b[0;32m    144\u001b[0m \u001b[38;5;124;03m            \"\"\"\u001b[39;00m\n\u001b[1;32m--> 145\u001b[0m             M, N \u001b[38;5;241m=\u001b[39m lattice\u001b[38;5;241m.\u001b[39mshape\n\u001b[0;32m    146\u001b[0m             empty_frame \u001b[38;5;241m=\u001b[39m [[[] \u001b[38;5;28;01mfor\u001b[39;00m _ \u001b[38;5;129;01min\u001b[39;00m \u001b[38;5;28mrange\u001b[39m(M)] \u001b[38;5;28;01mfor\u001b[39;00m _ \u001b[38;5;129;01min\u001b[39;00m \u001b[38;5;28mrange\u001b[39m(N)]\n\u001b[0;32m    147\u001b[0m             matrix  \u001b[38;5;241m=\u001b[39m pd\u001b[38;5;241m.\u001b[39mDataFrame(empty_frame)\n",
      "\u001b[1;31mTypeError\u001b[0m: cannot unpack non-iterable bool object"
     ]
    }
   ],
   "source": [
    "T = [0, 4]\n",
    "square_lattice = lattice.Lattice(J = 1)\n",
    "square_graph = graph.graph(1)\n",
    "\n",
    "square_graph.initialize(square_lattice)\n",
    "square_graph.display()\n",
    "Squr_alg = metroplois2.Metroplois(square_graph, T)\n",
    "Squr_alg.run_metroplois(200)\n"
   ]
  },
  {
   "cell_type": "code",
   "execution_count": null,
   "metadata": {},
   "outputs": [],
   "source": []
  }
 ],
 "metadata": {
  "kernelspec": {
   "display_name": "Python 3 (ipykernel)",
   "language": "python",
   "name": "python3"
  },
  "language_info": {
   "codemirror_mode": {
    "name": "ipython",
    "version": 3
   },
   "file_extension": ".py",
   "mimetype": "text/x-python",
   "name": "python",
   "nbconvert_exporter": "python",
   "pygments_lexer": "ipython3",
   "version": "3.9.12"
  }
 },
 "nbformat": 4,
 "nbformat_minor": 2
}
