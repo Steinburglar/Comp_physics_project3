{
 "cells": [
  {
   "cell_type": "markdown",
   "metadata": {},
   "source": [
    "Project 3 Ising Model\n",
    "Lucas Steinberger, ** add name here **\n",
    "Computational Physics"
   ]
  },
  {
   "cell_type": "markdown",
   "metadata": {},
   "source": [
    "the folloeing is code for an interface class to connect our lattice and algorithms"
   ]
  },
  {
   "cell_type": "code",
   "execution_count": 44,
   "metadata": {},
   "outputs": [],
   "source": [
    "import numpy as np\n",
    "from scipy import constants\n",
    "import matplotlib.pyplot as plt\n",
    "import numba\n",
    "from numba import njit\n",
    "%run lattice_class.ipynb"
   ]
  },
  {
   "cell_type": "code",
   "execution_count": 76,
   "metadata": {},
   "outputs": [],
   "source": [
    "# class lattice():\n",
    "#     def __init__(self, algorithm):\n",
    "#         self.lattice = lattice\n",
    "#         self.alg = algorithm\n",
    "\n",
    "#     def get_delta(self, node):\n",
    "#         #flips a node or sections of nodes and gets the energy delta\n",
    "#         before= self.lattice.getE(node)\n",
    "#         self.lattice.flip(node)\n",
    "#         after = self.lattice.getE(node)\n",
    "#         return after-before\n",
    "\n",
    "        "
   ]
  },
  {
   "cell_type": "code",
   "execution_count": 45,
   "metadata": {},
   "outputs": [],
   "source": [
    "class Metropolis:\n",
    "  \n",
    "    def __init__(self, lattice):\n",
    "        self.lattice = lattice\n",
    "       \n",
    "    \n",
    "    def random_node(self):\n",
    "#       picks a random node in the lattice\n",
    "        x = random.randint(0, self.lattice.size)\n",
    "        y = random.randint(0, self.lattice.size)\n",
    "        node_coor = [x, y]\n",
    "#       get list of coordinates \n",
    "        return node_coor\n",
    "    \n",
    "  \n",
    "    def evaluate_delta(self, node):\n",
    "        delta = self.lattice.get_delta(node)\n",
    "        k = 1\n",
    "        if delta <0 or random(0,1) <= np.exp(-delta/(k*self.T)):\n",
    "            return True\n",
    "        else:\n",
    "            return False\n",
    "    \n",
    "    #@numba.njit(\"UniTuple(f8[:], 2)(f8[:,:], i8, f8, f8)\", nopython=True, nogil=True)\n",
    "    def run_metropolis(self, steps):\n",
    "        temp = []  # List to store temperatures\n",
    "        energy_array = []  # List to store energy values\n",
    "        mag_array = []  # List to store magnetization values\n",
    "        for i in range(0, steps):\n",
    "            node = self.random_node()\n",
    "            check = self.evaluate_delta(node)\n",
    "            if check == True:\n",
    "                new_lattice = self.lattice.flip(node) #returns new lattice configuration \n",
    "                temp.append(T)  # range of temperatures\n",
    "                energy_array.append(self.lattice.getE(node)) #create an array appends all energies \n",
    "                mag_array.append(self.lattice.get_lattice.values.sum())  #append sum of spins\n",
    "               \n",
    "                #visualize every 100 iterations\n",
    "                self.lattice.color_lattice(new_lattice)\n",
    "        return temp, energy_array, mag_array\n",
    "            \n",
    "\n",
    "    def plot_ene_mag(self, steps):\n",
    "\n",
    "        temp, energy_array, mag_array = run_metropolis(self, steps)\n",
    "        fig, ax = plt.subplots(1, 2, figsize=(12,4))\n",
    "        ax[0].plot(temp, energy_array)\n",
    "        ax[0].set_xlabel('Temperature')\n",
    "        ax[0].set_ylabel('Magnetism')\n",
    "        ax[1].plot(temp, mag_array)\n",
    "        ax[1].set_xlabel('Temperature')\n",
    "        ax[1].set_ylabel('Total Energy')\n",
    "        ax[1].grid()\n",
    "        ax[0].grid()\n",
    "        plt.show()\n"
   ]
  },
  {
   "cell_type": "code",
   "execution_count": 47,
   "metadata": {},
   "outputs": [
    {
     "ename": "TypeError",
     "evalue": "'int' object is not subscriptable",
     "output_type": "error",
     "traceback": [
      "\u001b[1;31m---------------------------------------------------------------------------\u001b[0m",
      "\u001b[1;31mTypeError\u001b[0m                                 Traceback (most recent call last)",
      "Cell \u001b[1;32mIn[47], line 3\u001b[0m\n\u001b[0;32m      1\u001b[0m square_lattice \u001b[38;5;241m=\u001b[39m Lattice(J \u001b[38;5;241m=\u001b[39m \u001b[38;5;241m1\u001b[39m)\n\u001b[0;32m      2\u001b[0m Squr_alg \u001b[38;5;241m=\u001b[39m Metropolis(square_lattice)\n\u001b[1;32m----> 3\u001b[0m Squr_alg\u001b[38;5;241m.\u001b[39mrun_metropolis(\u001b[38;5;241m200\u001b[39m)\n",
      "Cell \u001b[1;32mIn[45], line 33\u001b[0m, in \u001b[0;36mMetropolis.run_metropolis\u001b[1;34m(self, steps)\u001b[0m\n\u001b[0;32m     31\u001b[0m \u001b[38;5;28;01mfor\u001b[39;00m i \u001b[38;5;129;01min\u001b[39;00m \u001b[38;5;28mrange\u001b[39m(\u001b[38;5;241m0\u001b[39m, steps):\n\u001b[0;32m     32\u001b[0m     node \u001b[38;5;241m=\u001b[39m \u001b[38;5;28mself\u001b[39m\u001b[38;5;241m.\u001b[39mrandom_node()\n\u001b[1;32m---> 33\u001b[0m     check \u001b[38;5;241m=\u001b[39m \u001b[38;5;28mself\u001b[39m\u001b[38;5;241m.\u001b[39mevaluate_delta(node)\n\u001b[0;32m     34\u001b[0m     \u001b[38;5;28;01mif\u001b[39;00m check \u001b[38;5;241m==\u001b[39m \u001b[38;5;28;01mTrue\u001b[39;00m:\n\u001b[0;32m     35\u001b[0m         new_lattice \u001b[38;5;241m=\u001b[39m \u001b[38;5;28mself\u001b[39m\u001b[38;5;241m.\u001b[39mlattice\u001b[38;5;241m.\u001b[39mflip(node) \u001b[38;5;66;03m#returns new lattice configuration \u001b[39;00m\n",
      "Cell \u001b[1;32mIn[45], line 19\u001b[0m, in \u001b[0;36mMetropolis.evaluate_delta\u001b[1;34m(self, node)\u001b[0m\n\u001b[0;32m     18\u001b[0m \u001b[38;5;28;01mdef\u001b[39;00m \u001b[38;5;21mevaluate_delta\u001b[39m(\u001b[38;5;28mself\u001b[39m, node):\n\u001b[1;32m---> 19\u001b[0m     delta \u001b[38;5;241m=\u001b[39m \u001b[38;5;28mself\u001b[39m\u001b[38;5;241m.\u001b[39mlattice\u001b[38;5;241m.\u001b[39mget_delta(node)\n\u001b[0;32m     20\u001b[0m     k \u001b[38;5;241m=\u001b[39m constants\u001b[38;5;241m.\u001b[39mk\n\u001b[0;32m     21\u001b[0m     \u001b[38;5;28;01mif\u001b[39;00m delta \u001b[38;5;241m<\u001b[39m\u001b[38;5;241m0\u001b[39m \u001b[38;5;129;01mor\u001b[39;00m random(\u001b[38;5;241m0\u001b[39m,\u001b[38;5;241m1\u001b[39m) \u001b[38;5;241m<\u001b[39m\u001b[38;5;241m=\u001b[39m np\u001b[38;5;241m.\u001b[39mexp(\u001b[38;5;241m-\u001b[39mdelta\u001b[38;5;241m/\u001b[39m(k\u001b[38;5;241m*\u001b[39m\u001b[38;5;28mself\u001b[39m\u001b[38;5;241m.\u001b[39mT)):\n",
      "File \u001b[1;32m~\\AppData\\Local\\Temp\\ipykernel_4412\\3910601230.py:49\u001b[0m, in \u001b[0;36mLattice.get_delta\u001b[1;34m(self, node)\u001b[0m\n\u001b[0;32m     46\u001b[0m \u001b[38;5;28;01mdef\u001b[39;00m \u001b[38;5;21mget_delta\u001b[39m(\u001b[38;5;28mself\u001b[39m, node):\n\u001b[0;32m     47\u001b[0m     \u001b[38;5;66;03m#flips a node or sections of nodes and gets the energy delta\u001b[39;00m\n\u001b[0;32m     48\u001b[0m     before\u001b[38;5;241m=\u001b[39m \u001b[38;5;28mself\u001b[39m\u001b[38;5;241m.\u001b[39mgetE(node)\n\u001b[1;32m---> 49\u001b[0m     \u001b[38;5;28mself\u001b[39m\u001b[38;5;241m.\u001b[39mflip(node)\n\u001b[0;32m     50\u001b[0m     after \u001b[38;5;241m=\u001b[39m \u001b[38;5;28mself\u001b[39m\u001b[38;5;241m.\u001b[39mgetE(node)\n\u001b[0;32m     51\u001b[0m     \u001b[38;5;28;01mreturn\u001b[39;00m after\u001b[38;5;241m-\u001b[39mbefore\n",
      "File \u001b[1;32m~\\AppData\\Local\\Temp\\ipykernel_4412\\3910601230.py:35\u001b[0m, in \u001b[0;36mLattice.flip\u001b[1;34m(self, lat_list)\u001b[0m\n\u001b[0;32m     33\u001b[0m \u001b[38;5;28;01melse\u001b[39;00m:\n\u001b[0;32m     34\u001b[0m     \u001b[38;5;28;01mfor\u001b[39;00m i \u001b[38;5;129;01min\u001b[39;00m \u001b[38;5;28mrange\u001b[39m(\u001b[38;5;28mlen\u001b[39m(lat_list)):\n\u001b[1;32m---> 35\u001b[0m         \u001b[38;5;28;01mif\u001b[39;00m \u001b[38;5;28mself\u001b[39m\u001b[38;5;241m.\u001b[39mlat\u001b[38;5;241m.\u001b[39mat[lat_list[i][\u001b[38;5;241m0\u001b[39m], lat_list[i][\u001b[38;5;241m1\u001b[39m]] \u001b[38;5;241m!=\u001b[39m \u001b[38;5;241m0\u001b[39m:\n\u001b[0;32m     36\u001b[0m             \u001b[38;5;28mself\u001b[39m\u001b[38;5;241m.\u001b[39mlat\u001b[38;5;241m.\u001b[39mat[lat_list[i][\u001b[38;5;241m0\u001b[39m], lat_list[i][\u001b[38;5;241m1\u001b[39m]] \u001b[38;5;241m=\u001b[39m \u001b[38;5;241m-\u001b[39m\u001b[38;5;241m1\u001b[39m\u001b[38;5;241m*\u001b[39m(\u001b[38;5;28mself\u001b[39m\u001b[38;5;241m.\u001b[39mlat\u001b[38;5;241m.\u001b[39mat[lat_list[i][\u001b[38;5;241m0\u001b[39m], lat_list[i][\u001b[38;5;241m1\u001b[39m]])\n",
      "\u001b[1;31mTypeError\u001b[0m: 'int' object is not subscriptable"
     ]
    }
   ],
   "source": [
    "\n",
    "\n",
    "square_lattice = Lattice(J = 1)\n",
    "Squr_alg = Metropolis(square_lattice)\n",
    "Squr_alg.run_metropolis(200)\n",
    "\n",
    "# T_spins = square_df.values.sum()"
   ]
  },
  {
   "cell_type": "code",
   "execution_count": 45,
   "metadata": {},
   "outputs": [
    {
     "name": "stdout",
     "output_type": "stream",
     "text": [
      "Method A in Class A\n",
      "Method B in Class B\n"
     ]
    },
    {
     "ename": "AttributeError",
     "evalue": "'NoneType' object has no attribute 'method_a'",
     "output_type": "error",
     "traceback": [
      "\u001b[1;31m---------------------------------------------------------------------------\u001b[0m",
      "\u001b[1;31mAttributeError\u001b[0m                            Traceback (most recent call last)",
      "Cell \u001b[1;32mIn[45], line 25\u001b[0m\n\u001b[0;32m     19\u001b[0m obj_a \u001b[38;5;241m=\u001b[39m ClassA(obj_b)\n\u001b[0;32m     21\u001b[0m \u001b[38;5;66;03m# Setting each other's instances\u001b[39;00m\n\u001b[0;32m     22\u001b[0m \u001b[38;5;66;03m#obj_b.class_a = obj_a\u001b[39;00m\n\u001b[0;32m     23\u001b[0m \n\u001b[0;32m     24\u001b[0m \u001b[38;5;66;03m# Calling methods to demonstrate the interaction\u001b[39;00m\n\u001b[1;32m---> 25\u001b[0m obj_a\u001b[38;5;241m.\u001b[39mmethod_a()\n",
      "Cell \u001b[1;32mIn[45], line 7\u001b[0m, in \u001b[0;36mClassA.method_a\u001b[1;34m(self)\u001b[0m\n\u001b[0;32m      5\u001b[0m \u001b[38;5;28;01mdef\u001b[39;00m \u001b[38;5;21mmethod_a\u001b[39m(\u001b[38;5;28mself\u001b[39m):\n\u001b[0;32m      6\u001b[0m     \u001b[38;5;28mprint\u001b[39m(\u001b[38;5;124m\"\u001b[39m\u001b[38;5;124mMethod A in Class A\u001b[39m\u001b[38;5;124m\"\u001b[39m)\n\u001b[1;32m----> 7\u001b[0m     \u001b[38;5;28mself\u001b[39m\u001b[38;5;241m.\u001b[39mclass_b\u001b[38;5;241m.\u001b[39mmethod_b()\n",
      "Cell \u001b[1;32mIn[45], line 15\u001b[0m, in \u001b[0;36mClassB.method_b\u001b[1;34m(self)\u001b[0m\n\u001b[0;32m     13\u001b[0m \u001b[38;5;28;01mdef\u001b[39;00m \u001b[38;5;21mmethod_b\u001b[39m(\u001b[38;5;28mself\u001b[39m):\n\u001b[0;32m     14\u001b[0m     \u001b[38;5;28mprint\u001b[39m(\u001b[38;5;124m\"\u001b[39m\u001b[38;5;124mMethod B in Class B\u001b[39m\u001b[38;5;124m\"\u001b[39m)\n\u001b[1;32m---> 15\u001b[0m     \u001b[38;5;28mself\u001b[39m\u001b[38;5;241m.\u001b[39mclass_a\u001b[38;5;241m.\u001b[39mmethod_a()\n",
      "\u001b[1;31mAttributeError\u001b[0m: 'NoneType' object has no attribute 'method_a'"
     ]
    }
   ],
   "source": [
    "class ClassA:\n",
    "    def __init__(self, class_b):\n",
    "        self.class_b = class_b\n",
    "\n",
    "    def method_a(self):\n",
    "        print(\"Method A in Class A\")\n",
    "        self.class_b.method_b()\n",
    "\n",
    "class ClassB:\n",
    "    def __init__(self, class_a):\n",
    "        self.class_a = class_a\n",
    "\n",
    "    def method_b(self):\n",
    "        print(\"Method B in Class B\")\n",
    "        self.class_a.method_a()\n",
    "\n",
    "# Creating instances of ClassA and ClassB\n",
    "obj_b = ClassB(None)\n",
    "obj_a = ClassA(obj_b)\n",
    "\n",
    "# Setting each other's instances\n",
    "obj_b.class_a = obj_a\n",
    "\n",
    "# Calling methods to demonstrate the interaction\n",
    "obj_a.method_a()"
   ]
  },
  {
   "cell_type": "code",
   "execution_count": null,
   "metadata": {},
   "outputs": [],
   "source": []
  }
 ],
 "metadata": {
  "kernelspec": {
   "display_name": "Python 3 (ipykernel)",
   "language": "python",
   "name": "python3"
  },
  "language_info": {
   "codemirror_mode": {
    "name": "ipython",
    "version": 3
   },
   "file_extension": ".py",
   "mimetype": "text/x-python",
   "name": "python",
   "nbconvert_exporter": "python",
   "pygments_lexer": "ipython3",
   "version": "3.11.5"
  }
 },
 "nbformat": 4,
 "nbformat_minor": 2
}
