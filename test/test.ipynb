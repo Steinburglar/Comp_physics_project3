{
 "cells": [
  {
   "cell_type": "markdown",
   "metadata": {},
   "source": [
    "Project 3 Ising Model\n",
    "Lucas Steinberger, ** add name here **\n",
    "Computational Physics"
   ]
  },
  {
   "cell_type": "markdown",
   "metadata": {},
   "source": [
    "the folloeing is code for an interface class to connect our lattice and algorithms"
   ]
  },
  {
   "cell_type": "code",
   "execution_count": 3,
   "metadata": {},
   "outputs": [],
   "source": [
    "\n",
    "%run metroplois2.py\n",
    "%run graph.py\n",
    "\n"
   ]
  },
  {
   "cell_type": "code",
   "execution_count": 4,
   "metadata": {},
   "outputs": [
    {
     "ename": "TypeError",
     "evalue": "'list' object is not callable",
     "output_type": "error",
     "traceback": [
      "\u001b[1;31m---------------------------------------------------------------------------\u001b[0m",
      "\u001b[1;31mTypeError\u001b[0m                                 Traceback (most recent call last)",
      "Cell \u001b[1;32mIn[4], line 4\u001b[0m\n\u001b[0;32m      2\u001b[0m square_lattice \u001b[38;5;241m=\u001b[39m graph(\u001b[38;5;241m1\u001b[39m)\n\u001b[0;32m      3\u001b[0m Squr_alg \u001b[38;5;241m=\u001b[39m Metroplois(square_lattice, T)\n\u001b[1;32m----> 4\u001b[0m Squr_alg\u001b[38;5;241m.\u001b[39mrun_metroplois(\u001b[38;5;241m200\u001b[39m)\n",
      "File \u001b[1;32m~\\ComputationalPhy\\Comp_physics_project3\\Comp_physics_project3\\metroplois2.py:49\u001b[0m, in \u001b[0;36mMetroplois.run_metroplois\u001b[1;34m(self, steps)\u001b[0m\n\u001b[0;32m     47\u001b[0m \u001b[38;5;28;01mfor\u001b[39;00m i \u001b[38;5;129;01min\u001b[39;00m \u001b[38;5;28mrange\u001b[39m(\u001b[38;5;241m0\u001b[39m, steps):\n\u001b[0;32m     48\u001b[0m     node \u001b[38;5;241m=\u001b[39m \u001b[38;5;28mself\u001b[39m\u001b[38;5;241m.\u001b[39mrandom_node()\n\u001b[1;32m---> 49\u001b[0m     check \u001b[38;5;241m=\u001b[39m \u001b[38;5;28mself\u001b[39m\u001b[38;5;241m.\u001b[39mevaluate_delta(node)\n\u001b[0;32m     50\u001b[0m     \u001b[38;5;28;01mif\u001b[39;00m check \u001b[38;5;241m==\u001b[39m \u001b[38;5;28;01mTrue\u001b[39;00m:\n\u001b[0;32m     51\u001b[0m         new_lattice \u001b[38;5;241m=\u001b[39m \u001b[38;5;28mself\u001b[39m\u001b[38;5;241m.\u001b[39mgraph\u001b[38;5;241m.\u001b[39mflip(node) \u001b[38;5;66;03m#returns new lattice configuration \u001b[39;00m\n",
      "File \u001b[1;32m~\\ComputationalPhy\\Comp_physics_project3\\Comp_physics_project3\\metroplois2.py:35\u001b[0m, in \u001b[0;36mMetroplois.evaluate_delta\u001b[1;34m(self, node)\u001b[0m\n\u001b[0;32m     34\u001b[0m \u001b[38;5;28;01mdef\u001b[39;00m \u001b[38;5;21mevaluate_delta\u001b[39m(\u001b[38;5;28mself\u001b[39m, node):\n\u001b[1;32m---> 35\u001b[0m     delta \u001b[38;5;241m=\u001b[39m \u001b[38;5;28mself\u001b[39m\u001b[38;5;241m.\u001b[39mgraph\u001b[38;5;241m.\u001b[39mget_delta(node)\n\u001b[0;32m     36\u001b[0m     k \u001b[38;5;241m=\u001b[39m \u001b[38;5;241m1\u001b[39m\n\u001b[0;32m     37\u001b[0m     \u001b[38;5;28;01mif\u001b[39;00m delta \u001b[38;5;241m<\u001b[39m\u001b[38;5;241m0\u001b[39m \u001b[38;5;129;01mor\u001b[39;00m random(\u001b[38;5;241m0\u001b[39m,\u001b[38;5;241m1\u001b[39m) \u001b[38;5;241m<\u001b[39m\u001b[38;5;241m=\u001b[39m np\u001b[38;5;241m.\u001b[39mexp(\u001b[38;5;241m-\u001b[39mdelta\u001b[38;5;241m/\u001b[39m(k\u001b[38;5;241m*\u001b[39m\u001b[38;5;28mself\u001b[39m\u001b[38;5;241m.\u001b[39mT)):\n",
      "File \u001b[1;32m~\\ComputationalPhy\\Comp_physics_project3\\Comp_physics_project3\\graph.py:137\u001b[0m, in \u001b[0;36mgraph.get_delta\u001b[1;34m(self, node)\u001b[0m\n\u001b[0;32m    135\u001b[0m \u001b[38;5;28;01mdef\u001b[39;00m \u001b[38;5;21mget_delta\u001b[39m(\u001b[38;5;28mself\u001b[39m, node):\n\u001b[0;32m    136\u001b[0m         \u001b[38;5;66;03m#flips a node or sections of nodes and gets the energy delta\u001b[39;00m\n\u001b[1;32m--> 137\u001b[0m         before\u001b[38;5;241m=\u001b[39m \u001b[38;5;28mself\u001b[39m\u001b[38;5;241m.\u001b[39mgetE(node)\n\u001b[0;32m    138\u001b[0m         \u001b[38;5;28mself\u001b[39m\u001b[38;5;241m.\u001b[39mflip(node)\n\u001b[0;32m    139\u001b[0m         after \u001b[38;5;241m=\u001b[39m \u001b[38;5;28mself\u001b[39m\u001b[38;5;241m.\u001b[39mgetE(node)\n",
      "File \u001b[1;32m~\\ComputationalPhy\\Comp_physics_project3\\Comp_physics_project3\\graph.py:76\u001b[0m, in \u001b[0;36mgraph.getE\u001b[1;34m(self, nodes)\u001b[0m\n\u001b[0;32m     74\u001b[0m completed_pairs \u001b[38;5;241m=\u001b[39m [] \u001b[38;5;66;03m#keep track of pairs that are already checked\u001b[39;00m\n\u001b[0;32m     75\u001b[0m \u001b[38;5;28;01mfor\u001b[39;00m node \u001b[38;5;129;01min\u001b[39;00m nodes:\n\u001b[1;32m---> 76\u001b[0m     \u001b[38;5;28;01mfor\u001b[39;00m neighbor \u001b[38;5;129;01min\u001b[39;00m \u001b[38;5;28mself\u001b[39m\u001b[38;5;241m.\u001b[39madj(node):\n\u001b[0;32m     77\u001b[0m         pair \u001b[38;5;241m=\u001b[39m [node, neighbor]\n\u001b[0;32m     78\u001b[0m         pair_inv \u001b[38;5;241m=\u001b[39m [neighbor, node]\n",
      "\u001b[1;31mTypeError\u001b[0m: 'list' object is not callable"
     ]
    }
   ],
   "source": [
    "\n",
    "T = [0, 4]\n",
    "square_lattice = graph(1)\n",
    "Squr_alg = Metroplois(square_lattice, T)\n",
    "Squr_alg.run_metroplois(200)\n",
    "\n",
    "# T_spins = square_df.values.sum()"
   ]
  },
  {
   "cell_type": "code",
   "execution_count": null,
   "metadata": {},
   "outputs": [],
   "source": []
  }
 ],
 "metadata": {
  "kernelspec": {
   "display_name": "Python 3 (ipykernel)",
   "language": "python",
   "name": "python3"
  },
  "language_info": {
   "codemirror_mode": {
    "name": "ipython",
    "version": 3
   },
   "file_extension": ".py",
   "mimetype": "text/x-python",
   "name": "python",
   "nbconvert_exporter": "python",
   "pygments_lexer": "ipython3",
   "version": "3.11.5"
  }
 },
 "nbformat": 4,
 "nbformat_minor": 2
}
