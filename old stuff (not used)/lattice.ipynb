{
 "cells": [
  {
   "cell_type": "code",
   "execution_count": 1,
   "metadata": {},
   "outputs": [
    {
     "ename": "NameError",
     "evalue": "name 'pd' is not defined",
     "output_type": "error",
     "traceback": [
      "\u001b[1;31m---------------------------------------------------------------------------\u001b[0m",
      "\u001b[1;31mNameError\u001b[0m                                 Traceback (most recent call last)",
      "Cell \u001b[1;32mIn[1], line 4\u001b[0m\n\u001b[0;32m      2\u001b[0m \u001b[38;5;66;03m#initialize lattice grid --> 10x10 square grid filled w zeros\u001b[39;00m\n\u001b[0;32m      3\u001b[0m data \u001b[38;5;241m=\u001b[39m [[\u001b[38;5;241m0\u001b[39m \u001b[38;5;28;01mfor\u001b[39;00m _ \u001b[38;5;129;01min\u001b[39;00m \u001b[38;5;28mrange\u001b[39m(N)] \u001b[38;5;28;01mfor\u001b[39;00m _ \u001b[38;5;129;01min\u001b[39;00m \u001b[38;5;28mrange\u001b[39m(N)]\n\u001b[1;32m----> 4\u001b[0m lattice \u001b[38;5;241m=\u001b[39m pd\u001b[38;5;241m.\u001b[39mDataFrame(data)\n\u001b[0;32m      7\u001b[0m init_random \u001b[38;5;241m=\u001b[39m np\u001b[38;5;241m.\u001b[39mrandom\u001b[38;5;241m.\u001b[39mrandom((N,N))\n\u001b[0;32m      8\u001b[0m \u001b[38;5;66;03m# triangle lattice fill w/ 1\u001b[39;00m\n",
      "\u001b[1;31mNameError\u001b[0m: name 'pd' is not defined"
     ]
    }
   ],
   "source": [
    "N = 10\n",
    "#initialize lattice grid --> 10x10 square grid filled w zeros\n",
    "data = [[0 for _ in range(N)] for _ in range(N)]\n",
    "lattice = pd.DataFrame(data)\n",
    "\n",
    "\n",
    "init_random = np.random.random((N,N))\n",
    "# triangle lattice fill w/ 1\n",
    "for i in range(N):\n",
    "    for j in range(10-i):\n",
    "        lattice.at[i, j] = (-1)**random.randint(99, 15670)"
   ]
  },
  {
   "cell_type": "code",
   "execution_count": null,
   "metadata": {},
   "outputs": [],
   "source": [
    "import random\n",
    "import pandas as pd\n",
    "import numpy as np\n",
    "import matplotlib.pyplot as plt\n",
    "import numba\n",
    "from numba import njit\n",
    "from scipy.ndimage import convolve, generate_binary_structure"
   ]
  },
  {
   "cell_type": "code",
   "execution_count": 36,
   "metadata": {},
   "outputs": [
    {
     "name": "stdout",
     "output_type": "stream",
     "text": [
      "5\n",
      "-1  1  1  1  1  1 -1  1 1 1\n",
      " 1  1 -1 -1 -1  1 -1  1 1 0\n",
      "-1  1  1  1 -1  1 -1 -1 0 0\n",
      " 1  1 -1 -1  1  1 -1  0 0 0\n",
      " 1 -1 -1  1 -1 -1  0  0 0 0\n",
      "-1  1  1  1 -1  0  0  0 0 0\n",
      "-1  1  1 -1  0  0  0  0 0 0\n",
      "-1  1 -1  0  0  0  0  0 0 0\n",
      "-1 -1  0  0  0  0  0  0 0 0\n",
      " 1  0  0  0  0  0  0  0 0 0\n"
     ]
    },
    {
     "data": {
      "text/plain": [
       "<matplotlib.image.AxesImage at 0x1829b9d5250>"
      ]
     },
     "execution_count": 36,
     "metadata": {},
     "output_type": "execute_result"
    },
    {
     "data": {
      "image/png": "[encoded data removed]",
      "text/plain": [
       "<Figure size 640x480 with 1 Axes>"
      ]
     },
     "metadata": {},
     "output_type": "display_data"
    }
   ],
   "source": [
    "#sum of spins\n",
    "T_spins = lattice.values.sum()\n",
    "print(T_spins)\n",
    "print(lattice.to_string(header=False, index=False))\n",
    "\n",
    "#change spin\n",
    "def change_site(x,y,spin):\n",
    "    if lattice[x,y] != 0:\n",
    "        lattice.at[x,y] = spin\n",
    "\n",
    "plt.imshow(lattice)\n"
   ]
  }
 ],
 "metadata": {
  "kernelspec": {
   "display_name": "base",
   "language": "python",
   "name": "python3"
  },
  "language_info": {
   "codemirror_mode": {
    "name": "ipython",
    "version": 3
   },
   "file_extension": ".py",
   "mimetype": "text/x-python",
   "name": "python",
   "nbconvert_exporter": "python",
   "pygments_lexer": "ipython3",
   "version": "3.11.5"
  }
 },
 "nbformat": 4,
 "nbformat_minor": 2
}
