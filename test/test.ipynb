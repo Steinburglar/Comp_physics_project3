{
 "cells": [
  {
   "cell_type": "markdown",
   "metadata": {},
   "source": [
    "Project 3 Ising Model\n",
    "Lucas Steinberger, ** add name here **\n",
    "Computational Physics"
   ]
  },
  {
   "cell_type": "markdown",
   "metadata": {},
   "source": [
    "the folloeing is code for an interface class to connect our lattice and algorithms"
   ]
  },
  {
   "cell_type": "code",
   "execution_count": 16,
   "metadata": {},
   "outputs": [],
   "source": [
    "\n",
    "import lattice\n",
    "import metroplois2\n",
    "import graph\n",
    "\n"
   ]
  },
  {
   "cell_type": "code",
   "execution_count": 17,
   "metadata": {},
   "outputs": [
    {
     "ename": "TypeError",
     "evalue": "'module' object is not callable",
     "output_type": "error",
     "traceback": [
      "\u001b[1;31m---------------------------------------------------------------------------\u001b[0m",
      "\u001b[1;31mTypeError\u001b[0m                                 Traceback (most recent call last)",
      "Input \u001b[1;32mIn [17]\u001b[0m, in \u001b[0;36m<cell line: 3>\u001b[1;34m()\u001b[0m\n\u001b[0;32m      1\u001b[0m T \u001b[38;5;241m=\u001b[39m [\u001b[38;5;241m0\u001b[39m, \u001b[38;5;241m4\u001b[39m]\n\u001b[0;32m      2\u001b[0m square_lattice \u001b[38;5;241m=\u001b[39m Lattice(J \u001b[38;5;241m=\u001b[39m \u001b[38;5;241m1\u001b[39m)\n\u001b[1;32m----> 3\u001b[0m square_graph \u001b[38;5;241m=\u001b[39m \u001b[43mgraph\u001b[49m\u001b[43m(\u001b[49m\u001b[38;5;241;43m1\u001b[39;49m\u001b[43m)\u001b[49m\n\u001b[0;32m      4\u001b[0m square_graph\u001b[38;5;241m.\u001b[39minitialize(square_lattice)\n\u001b[0;32m      5\u001b[0m Squr_alg \u001b[38;5;241m=\u001b[39m Metroplois(square_graph, T)\n",
      "\u001b[1;31mTypeError\u001b[0m: 'module' object is not callable"
     ]
    }
   ],
   "source": [
    "\n",
    "T = [0, 4]\n",
    "square_lattice = Lattice(J = 1)\n",
    "square_graph = graph(1)\n",
    "square_graph.initialize(square_lattice)\n",
    "Squr_alg = Metroplois(square_graph, T)\n",
    "Squr_alg.run_metroplois(200)\n",
    "\n",
    "# T_spins = square_df.values.sum()"
   ]
  },
  {
   "cell_type": "code",
   "execution_count": null,
   "metadata": {},
   "outputs": [],
   "source": []
  }
 ],
 "metadata": {
  "kernelspec": {
   "display_name": "Python 3 (ipykernel)",
   "language": "python",
   "name": "python3"
  },
  "language_info": {
   "codemirror_mode": {
    "name": "ipython",
    "version": 3
   },
   "file_extension": ".py",
   "mimetype": "text/x-python",
   "name": "python",
   "nbconvert_exporter": "python",
   "pygments_lexer": "ipython3",
   "version": "3.9.12"
  }
 },
 "nbformat": 4,
 "nbformat_minor": 2
}
