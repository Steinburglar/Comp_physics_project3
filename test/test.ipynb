{
 "cells": [
  {
   "cell_type": "markdown",
   "metadata": {},
   "source": [
    "Project 3 Ising Model\n",
    "Lucas Steinberger, ** add name here **\n",
    "Computational Physics"
   ]
  },
  {
   "cell_type": "markdown",
   "metadata": {},
   "source": [
    "the folloeing is code for an interface class to connect our lattice and algorithms"
   ]
  },
  {
   "cell_type": "code",
   "execution_count": 1,
   "metadata": {},
   "outputs": [],
   "source": [
    "import lattice\n",
    "import metroplois2\n",
    "import graph"
   ]
  },
  {
   "cell_type": "code",
   "execution_count": 2,
   "metadata": {},
   "outputs": [
    {
     "data": {
      "image/png": "[encoded data removed]",
      "text/plain": [
       "<Figure size 432x288 with 1 Axes>"
      ]
     },
     "metadata": {
      "needs_background": "light"
     },
     "output_type": "display_data"
    }
   ],
   "source": [
    "T = 20\n",
    "square_lattice = lattice.Lattice(J = 1).lat\n",
    "square_graph = graph.graph(1)\n",
    "\n",
    "square_graph.initialize(square_lattice)\n",
    "square_graph.display()\n",
    "Squr_alg = metroplois2.Metroplois(square_graph, T)\n",
    "Squr_alg.run_metroplois(10000)\n",
    "square_graph.display()\n",
    "#square_graph.display()\n",
    "#Squr_alg.plot_mag_temp(10000, 21)\n",
    "#square_graph.display()\n"
   ]
  },
  {
   "cell_type": "code",
   "execution_count": 4,
   "metadata": {},
   "outputs": [
    {
     "ename": "KeyboardInterrupt",
     "evalue": "",
     "output_type": "error",
     "traceback": [
      "\u001b[1;31m---------------------------------------------------------------------------\u001b[0m",
      "\u001b[1;31mKeyboardInterrupt\u001b[0m                         Traceback (most recent call last)",
      "\u001b[1;32mc:\\Users\\Moxie\\OneDrive\\Documents\\GitHub\\Comp_physics_project3\\test\\test.ipynb Cell 5\u001b[0m line \u001b[0;36m<cell line: 6>\u001b[1;34m()\u001b[0m\n\u001b[0;32m      <a href='vscode-notebook-cell:/c%3A/Users/Moxie/OneDrive/Documents/GitHub/Comp_physics_project3/test/test.ipynb#W4sZmlsZQ%3D%3D?line=2'>3</a>\u001b[0m Squr_alg \u001b[39m=\u001b[39m metroplois2\u001b[39m.\u001b[39mMetroplois(square_lattice, T)\n\u001b[0;32m      <a href='vscode-notebook-cell:/c%3A/Users/Moxie/OneDrive/Documents/GitHub/Comp_physics_project3/test/test.ipynb#W4sZmlsZQ%3D%3D?line=3'>4</a>\u001b[0m \u001b[39m#Squr_alg.run_metroplois(100000)\u001b[39;00m\n\u001b[0;32m      <a href='vscode-notebook-cell:/c%3A/Users/Moxie/OneDrive/Documents/GitHub/Comp_physics_project3/test/test.ipynb#W4sZmlsZQ%3D%3D?line=4'>5</a>\u001b[0m \u001b[39m#square_lattice.color_lattice()\u001b[39;00m\n\u001b[1;32m----> <a href='vscode-notebook-cell:/c%3A/Users/Moxie/OneDrive/Documents/GitHub/Comp_physics_project3/test/test.ipynb#W4sZmlsZQ%3D%3D?line=5'>6</a>\u001b[0m Squr_alg\u001b[39m.\u001b[39;49mplot_mag_temp(\u001b[39m100000\u001b[39;49m, \u001b[39m21\u001b[39;49m)\n",
      "File \u001b[1;32mc:\\Users\\Moxie\\OneDrive\\Documents\\GitHub\\Comp_physics_project3\\test\\metroplois2.py:93\u001b[0m, in \u001b[0;36mMetroplois.plot_mag_temp\u001b[1;34m(self, steps, temp_range)\u001b[0m\n\u001b[0;32m     91\u001b[0m \u001b[39mself\u001b[39m\u001b[39m.\u001b[39mgraph\u001b[39m.\u001b[39mrandomize_all()\n\u001b[0;32m     92\u001b[0m \u001b[39mself\u001b[39m\u001b[39m.\u001b[39mT \u001b[39m=\u001b[39m T\n\u001b[1;32m---> 93\u001b[0m \u001b[39mself\u001b[39;49m\u001b[39m.\u001b[39;49mrun_metroplois(steps)\n\u001b[0;32m     94\u001b[0m temp\u001b[39m.\u001b[39mappend(\u001b[39mself\u001b[39m\u001b[39m.\u001b[39mT)  \u001b[39m# range of temperatures\u001b[39;00m\n\u001b[0;32m     95\u001b[0m mag_array\u001b[39m.\u001b[39mappend(\u001b[39mself\u001b[39m\u001b[39m.\u001b[39mgraph\u001b[39m.\u001b[39mgetM())  \u001b[39m#append sum of spins\u001b[39;00m\n",
      "File \u001b[1;32mc:\\Users\\Moxie\\OneDrive\\Documents\\GitHub\\Comp_physics_project3\\test\\metroplois2.py:44\u001b[0m, in \u001b[0;36mMetroplois.run_metroplois\u001b[1;34m(self, steps)\u001b[0m\n\u001b[0;32m     42\u001b[0m \u001b[39mfor\u001b[39;00m i \u001b[39min\u001b[39;00m \u001b[39mrange\u001b[39m(\u001b[39m0\u001b[39m, steps):\n\u001b[0;32m     43\u001b[0m     node \u001b[39m=\u001b[39m \u001b[39mself\u001b[39m\u001b[39m.\u001b[39mrandom_node()\n\u001b[1;32m---> 44\u001b[0m     check \u001b[39m=\u001b[39m \u001b[39mself\u001b[39;49m\u001b[39m.\u001b[39;49mevaluate_delta(node)\n\u001b[0;32m     45\u001b[0m     \u001b[39mif\u001b[39;00m check \u001b[39m==\u001b[39m \u001b[39mFalse\u001b[39;00m:\n\u001b[0;32m     46\u001b[0m         \u001b[39mself\u001b[39m\u001b[39m.\u001b[39mgraph\u001b[39m.\u001b[39mflip(node)\n",
      "File \u001b[1;32mc:\\Users\\Moxie\\OneDrive\\Documents\\GitHub\\Comp_physics_project3\\test\\metroplois2.py:32\u001b[0m, in \u001b[0;36mMetroplois.evaluate_delta\u001b[1;34m(self, node)\u001b[0m\n\u001b[0;32m     31\u001b[0m \u001b[39mdef\u001b[39;00m \u001b[39mevaluate_delta\u001b[39m(\u001b[39mself\u001b[39m, node):\n\u001b[1;32m---> 32\u001b[0m     delta \u001b[39m=\u001b[39m \u001b[39mself\u001b[39;49m\u001b[39m.\u001b[39;49mgraph\u001b[39m.\u001b[39;49mget_delta(node)\n\u001b[0;32m     33\u001b[0m     k \u001b[39m=\u001b[39m \u001b[39m1\u001b[39m\n\u001b[0;32m     34\u001b[0m     \u001b[39mif\u001b[39;00m delta \u001b[39m<\u001b[39m\u001b[39m0\u001b[39m \u001b[39mor\u001b[39;00m random\u001b[39m.\u001b[39mrandom() \u001b[39m<\u001b[39m\u001b[39m=\u001b[39m np\u001b[39m.\u001b[39mexp(\u001b[39m-\u001b[39mdelta\u001b[39m/\u001b[39m(k\u001b[39m*\u001b[39m\u001b[39mself\u001b[39m\u001b[39m.\u001b[39mT)):\n",
      "File \u001b[1;32mc:\\Users\\Moxie\\OneDrive\\Documents\\GitHub\\Comp_physics_project3\\test\\lattice.py:92\u001b[0m, in \u001b[0;36mLattice.get_delta\u001b[1;34m(self, node)\u001b[0m\n\u001b[0;32m     90\u001b[0m before\u001b[39m=\u001b[39m \u001b[39mself\u001b[39m\u001b[39m.\u001b[39mgetE(node)\n\u001b[0;32m     91\u001b[0m \u001b[39mself\u001b[39m\u001b[39m.\u001b[39mflip(node)\n\u001b[1;32m---> 92\u001b[0m after \u001b[39m=\u001b[39m \u001b[39mself\u001b[39;49m\u001b[39m.\u001b[39;49mgetE(node)\n\u001b[0;32m     93\u001b[0m \u001b[39mreturn\u001b[39;00m after\u001b[39m-\u001b[39mbefore\n",
      "File \u001b[1;32mc:\\Users\\Moxie\\OneDrive\\Documents\\GitHub\\Comp_physics_project3\\test\\lattice.py:60\u001b[0m, in \u001b[0;36mLattice.getE\u001b[1;34m(self, node)\u001b[0m\n\u001b[0;32m     58\u001b[0m kern \u001b[39m=\u001b[39m generate_binary_structure(\u001b[39m2\u001b[39m, \u001b[39m1\u001b[39m)\n\u001b[0;32m     59\u001b[0m kern[\u001b[39m1\u001b[39m][\u001b[39m1\u001b[39m] \u001b[39m=\u001b[39m \u001b[39mFalse\u001b[39;00m\n\u001b[1;32m---> 60\u001b[0m arr \u001b[39m=\u001b[39m \u001b[39m-\u001b[39mlattice \u001b[39m*\u001b[39m convolve(lattice, kern, mode\u001b[39m=\u001b[39;49m\u001b[39m'\u001b[39;49m\u001b[39mconstant\u001b[39;49m\u001b[39m'\u001b[39;49m, cval\u001b[39m=\u001b[39;49m\u001b[39m0\u001b[39;49m)\n\u001b[0;32m     61\u001b[0m \u001b[39mreturn\u001b[39;00m arr\u001b[39m.\u001b[39msum()\n",
      "File \u001b[1;32mc:\\Users\\Moxie\\anaconda3\\lib\\site-packages\\scipy\\ndimage\\filters.py:858\u001b[0m, in \u001b[0;36mconvolve\u001b[1;34m(input, weights, output, mode, cval, origin)\u001b[0m\n\u001b[0;32m    756\u001b[0m \u001b[39m@_ni_docstrings\u001b[39m\u001b[39m.\u001b[39mdocfiller\n\u001b[0;32m    757\u001b[0m \u001b[39mdef\u001b[39;00m \u001b[39mconvolve\u001b[39m(\u001b[39minput\u001b[39m, weights, output\u001b[39m=\u001b[39m\u001b[39mNone\u001b[39;00m, mode\u001b[39m=\u001b[39m\u001b[39m'\u001b[39m\u001b[39mreflect\u001b[39m\u001b[39m'\u001b[39m, cval\u001b[39m=\u001b[39m\u001b[39m0.0\u001b[39m,\n\u001b[0;32m    758\u001b[0m              origin\u001b[39m=\u001b[39m\u001b[39m0\u001b[39m):\n\u001b[0;32m    759\u001b[0m     \u001b[39m\"\"\"\u001b[39;00m\n\u001b[0;32m    760\u001b[0m \u001b[39m    Multidimensional convolution.\u001b[39;00m\n\u001b[0;32m    761\u001b[0m \n\u001b[1;32m   (...)\u001b[0m\n\u001b[0;32m    856\u001b[0m \n\u001b[0;32m    857\u001b[0m \u001b[39m    \"\"\"\u001b[39;00m\n\u001b[1;32m--> 858\u001b[0m     \u001b[39mreturn\u001b[39;00m _correlate_or_convolve(\u001b[39minput\u001b[39;49m, weights, output, mode, cval,\n\u001b[0;32m    859\u001b[0m                                   origin, \u001b[39mTrue\u001b[39;49;00m)\n",
      "File \u001b[1;32mc:\\Users\\Moxie\\anaconda3\\lib\\site-packages\\scipy\\ndimage\\filters.py:686\u001b[0m, in \u001b[0;36m_correlate_or_convolve\u001b[1;34m(input, weights, output, mode, cval, origin, convolution)\u001b[0m\n\u001b[0;32m    684\u001b[0m     \u001b[39mraise\u001b[39;00m \u001b[39mRuntimeError\u001b[39;00m(\u001b[39m\"\u001b[39m\u001b[39mA sequence of modes is not supported\u001b[39m\u001b[39m\"\u001b[39m)\n\u001b[0;32m    685\u001b[0m mode \u001b[39m=\u001b[39m _ni_support\u001b[39m.\u001b[39m_extend_mode_to_code(mode)\n\u001b[1;32m--> 686\u001b[0m _nd_image\u001b[39m.\u001b[39;49mcorrelate(\u001b[39minput\u001b[39;49m, weights, output, mode, cval, origins)\n\u001b[0;32m    687\u001b[0m \u001b[39mif\u001b[39;00m temp_needed:\n\u001b[0;32m    688\u001b[0m     temp[\u001b[39m.\u001b[39m\u001b[39m.\u001b[39m\u001b[39m.\u001b[39m] \u001b[39m=\u001b[39m output\n",
      "\u001b[1;31mKeyboardInterrupt\u001b[0m: "
     ]
    }
   ],
   "source": [
    "T = 10\n",
    "square_lattice = lattice.Lattice(J = 1)\n",
    "Squr_alg = metroplois2.Metroplois(square_lattice, T)\n",
    "#Squr_alg.run_metroplois(100000)\n",
    "#square_lattice.color_lattice()\n",
    "Squr_alg.plot_mag_temp(100000, 21)"
   ]
  },
  {
   "cell_type": "code",
   "execution_count": null,
   "metadata": {},
   "outputs": [],
   "source": []
  }
 ],
 "metadata": {
  "kernelspec": {
   "display_name": "Python 3 (ipykernel)",
   "language": "python",
   "name": "python3"
  },
  "language_info": {
   "codemirror_mode": {
    "name": "ipython",
    "version": 3
   },
   "file_extension": ".py",
   "mimetype": "text/x-python",
   "name": "python",
   "nbconvert_exporter": "python",
   "pygments_lexer": "ipython3",
   "version": "3.9.12"
  }
 },
 "nbformat": 4,
 "nbformat_minor": 2
}
